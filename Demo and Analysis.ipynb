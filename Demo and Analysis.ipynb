{
 "cells": [
  {
   "cell_type": "code",
   "execution_count": 1,
   "metadata": {},
   "outputs": [],
   "source": [
    "import torch\n",
    "from models.models import *\n",
    "from data_utils import *\n",
    "import json\n",
    "import argparse\n",
    "from predict import *\n",
    "from data_utils import *\n",
    "from eval import *\n",
    "from train import *"
   ]
  },
  {
   "cell_type": "code",
   "execution_count": 2,
   "metadata": {},
   "outputs": [],
   "source": [
    "BASE_PATH = './Models'\n",
    "\n",
    "CONFIG = {'hidden_dim': {'AWE': 300, 'LSTM':2048, 'BiLSTM':4096, 'BiLSTMpooling':4096},\n",
    "\t\t'vocab_path': './vocab.json',\n",
    "\t\t'device': 'cuda:4',\n",
    "\t\t'checkpoint': {'AWE': 9, 'LSTM': 13, 'BiLSTM': 12, 'BiLSTMpooling': 5},\n",
    "\t\t'model_path': {'AWE': os.path.join(BASE_PATH, 'awe'),\n",
    "                        'LSTM': os.path.join(BASE_PATH, 'default'),\n",
    "\t\t\t\t\t\t'BiLSTM':os.path.join(BASE_PATH, 'bilstm'),\n",
    "\t\t\t\t\t\t'BiLSTMpooling':os.path.join(BASE_PATH, 'bilstmpooling')}}"
   ]
  },
  {
   "cell_type": "markdown",
   "metadata": {},
   "source": [
    "Note the device key in the config. Change it according to your setup."
   ]
  },
  {
   "cell_type": "markdown",
   "metadata": {},
   "source": [
    "#### Define Encoder, Premise and Hypothesis in the next cell "
   ]
  },
  {
   "cell_type": "code",
   "execution_count": 3,
   "metadata": {},
   "outputs": [],
   "source": [
    "encoder = 'AWE'\n",
    "premise = 'I am a boy.'\n",
    "hypothesis = 'I am not a girl.'"
   ]
  },
  {
   "cell_type": "code",
   "execution_count": 4,
   "metadata": {},
   "outputs": [
    {
     "name": "stdout",
     "output_type": "stream",
     "text": [
      "The prediction is contradiction\n"
     ]
    }
   ],
   "source": [
    "predictor = Predictor.Initialize(encoder)\n",
    "pred_label = predictor.predict(premise, hypothesis)\n",
    "\n",
    "print(\"The prediction is {}\".format(pred_label))"
   ]
  },
  {
   "cell_type": "markdown",
   "metadata": {},
   "source": [
    "#### In the following part, we will compare the different encoder types"
   ]
  },
  {
   "cell_type": "code",
   "execution_count": 3,
   "metadata": {},
   "outputs": [
    {
     "name": "stderr",
     "output_type": "stream",
     "text": [
      "Reading and Preparing dataset...: 100%|██████████| 9999/9999 [00:22<00:00, 446.19it/s]\n",
      "Reading and Preparing dataset...:   0%|          | 15/9999 [00:00<01:07, 148.06it/s]"
     ]
    },
    {
     "name": "stdout",
     "output_type": "stream",
     "text": [
      "total pairs 9841, Vocabulary size 36547\n"
     ]
    },
    {
     "name": "stderr",
     "output_type": "stream",
     "text": [
      "Reading and Preparing dataset...: 100%|██████████| 9999/9999 [00:21<00:00, 468.90it/s]\n"
     ]
    },
    {
     "name": "stdout",
     "output_type": "stream",
     "text": [
      "total pairs 9823, Vocabulary size 36547\n",
      "Embedding shape torch.Size([36547, 300])\n"
     ]
    }
   ],
   "source": [
    "val_loader, test_loader, vocab = get_data_loaders_()\n",
    "vocab.build_vectors()\n",
    "\n",
    "def Predict(encoder):\n",
    "    ckp_path = os.path.join(CONFIG['model_path'][encoder], 'model_' + str(CONFIG['checkpoint'][encoder]) + '.pt')\n",
    "    evaluator = Trainer.Initialize(encoder=encoder,\n",
    "                                test_loader=test_loader,\n",
    "                                vocab = vocab,\n",
    "                                hidden_dim=CONFIG['hidden_dim'][encoder],\n",
    "                                device=torch.device(CONFIG['device']),\n",
    "                                checkpoint_path=ckp_path\n",
    "                                )\n",
    "    _, predictions, actual = evaluator.evaluate_on_test_data()\n",
    "    \n",
    "    return predictions, actual"
   ]
  },
  {
   "cell_type": "code",
   "execution_count": 4,
   "metadata": {},
   "outputs": [
    {
     "name": "stdout",
     "output_type": "stream",
     "text": [
      "Embedding shape torch.Size([36547, 300])\n"
     ]
    },
    {
     "name": "stderr",
     "output_type": "stream",
     "text": [
      "Evaluating on Test data: : 307it [00:07, 41.56it/s]\n"
     ]
    }
   ],
   "source": [
    "pred_lstm, actual_lstm = Predict('LSTM')"
   ]
  },
  {
   "cell_type": "code",
   "execution_count": 7,
   "metadata": {},
   "outputs": [
    {
     "name": "stdout",
     "output_type": "stream",
     "text": [
      "Embedding shape torch.Size([36547, 300])\n"
     ]
    },
    {
     "name": "stderr",
     "output_type": "stream",
     "text": [
      "Evaluating on Test data: : 307it [00:37,  8.10it/s]\n"
     ]
    }
   ],
   "source": [
    "pred_bilstm, actual_bilstm = Predict('BiLSTM')"
   ]
  },
  {
   "cell_type": "code",
   "execution_count": 8,
   "metadata": {},
   "outputs": [
    {
     "name": "stdout",
     "output_type": "stream",
     "text": [
      "Embedding shape torch.Size([36547, 300])\n"
     ]
    },
    {
     "name": "stderr",
     "output_type": "stream",
     "text": [
      "Evaluating on Test data: : 307it [00:39,  7.84it/s]\n"
     ]
    }
   ],
   "source": [
    "pred_bilstmpooling, actual_bilstmpooling = Predict('BiLSTMpooling')"
   ]
  },
  {
   "cell_type": "code",
   "execution_count": 9,
   "metadata": {},
   "outputs": [
    {
     "name": "stderr",
     "output_type": "stream",
     "text": [
      "Evaluating on Test data: : 0it [00:00, ?it/s]"
     ]
    },
    {
     "name": "stdout",
     "output_type": "stream",
     "text": [
      "Embedding shape torch.Size([36547, 300])\n"
     ]
    },
    {
     "name": "stderr",
     "output_type": "stream",
     "text": [
      "Evaluating on Test data: : 307it [00:01, 183.16it/s]\n"
     ]
    }
   ],
   "source": [
    "pred_awe, actual_awe = Predict('AWE')"
   ]
  },
  {
   "cell_type": "code",
   "execution_count": 10,
   "metadata": {},
   "outputs": [],
   "source": [
    "from sklearn.metrics import confusion_matrix\n",
    "conf_lstm = confusion_matrix(pred_lstm, actual_lstm)\n",
    "conf_bilstm = confusion_matrix(pred_bilstm, actual_bilstm)\n",
    "conf_bilstmpooling = confusion_matrix(pred_bilstmpooling, actual_bilstmpooling)\n",
    "conf_awe = confusion_matrix(pred_awe, actual_awe)"
   ]
  },
  {
   "cell_type": "code",
   "execution_count": 17,
   "metadata": {},
   "outputs": [
    {
     "data": {
      "text/plain": [
       "Text(0.5, 1.0, 'Confusion Matrix for AWE')"
      ]
     },
     "execution_count": 17,
     "metadata": {},
     "output_type": "execute_result"
    },
    {
     "data": {
      "image/png": "[encoded data removed]",
      "text/plain": [
       "<Figure size 288x288 with 2 Axes>"
      ]
     },
     "metadata": {
      "needs_background": "light"
     },
     "output_type": "display_data"
    },
    {
     "data": {
      "image/png": "[encoded data removed]",
      "text/plain": [
       "<Figure size 288x288 with 2 Axes>"
      ]
     },
     "metadata": {
      "needs_background": "light"
     },
     "output_type": "display_data"
    },
    {
     "data": {
      "image/png": "[encoded data removed]",
      "text/plain": [
       "<Figure size 288x288 with 2 Axes>"
      ]
     },
     "metadata": {
      "needs_background": "light"
     },
     "output_type": "display_data"
    },
    {
     "data": {
      "image/png": "[encoded data removed]",
      "text/plain": [
       "<Figure size 288x288 with 2 Axes>"
      ]
     },
     "metadata": {
      "needs_background": "light"
     },
     "output_type": "display_data"
    }
   ],
   "source": [
    "import seaborn as sn\n",
    "import matplotlib.pyplot as plt\n",
    "df_cm = pd.DataFrame(conf_lstm, index = ['neutral', 'entailment', 'contradiction'],\n",
    "                  columns = ['neutral', 'entailment', 'contradiction'])\n",
    "plt.figure(figsize = (4,4))\n",
    "sn.heatmap(df_cm, annot=True, fmt=\"d\", cmap=\"YlGnBu\")\n",
    "plt.title('Confusion Matrix for LSTM')\n",
    "df_cm = pd.DataFrame(conf_bilstm, index = ['neutral', 'entailment', 'contradiction'],\n",
    "                  columns = ['neutral', 'entailment', 'contradiction'])\n",
    "plt.figure(figsize = (4,4))\n",
    "sn.heatmap(df_cm, annot=True, fmt=\"d\", cmap=\"YlGnBu\")\n",
    "plt.title('Confusion Matrix for BiLSTM')\n",
    "df_cm = pd.DataFrame(conf_bilstmpooling, index = ['neutral', 'entailment', 'contradiction'],\n",
    "                  columns = ['neutral', 'entailment', 'contradiction'])\n",
    "plt.figure(figsize = (4,4))\n",
    "sn.heatmap(df_cm, annot=True, fmt=\"d\", cmap=\"YlGnBu\")\n",
    "plt.title('Confusion Matrix for BiLSTMpooling')\n",
    "df_cm = pd.DataFrame(conf_awe, index = ['neutral', 'entailment', 'contradiction'],\n",
    "                  columns = ['neutral', 'entailment', 'contradiction'])\n",
    "plt.figure(figsize = (4,4))\n",
    "sn.heatmap(df_cm, annot=True, fmt=\"d\", cmap=\"YlGnBu\")\n",
    "plt.title('Confusion Matrix for AWE')"
   ]
  },
  {
   "cell_type": "markdown",
   "metadata": {},
   "source": [
    "As can be observed from the confusion matrix, all the models are facing error on predicting \"Neutral\" label for the true label \"Entailment\", with AWE suffering the worst, and LSTM the least. Also, \"Contradiction\" label is also classified for many error cases to be neutral, with \"AWE\" doing it to a severe extent, and BiLSTM pooling to the lesser extent. Interestingly, BiLSTMpooling makes very less errors for classifying entailment as contradiction as opposed to the other models. This is a good case for superior performace of the BiLSTMpooling model, as this encoder is better than other models in sentence representation (as also evident from its performance on SentEval Transfer Tasks)."
   ]
  },
  {
   "cell_type": "markdown",
   "metadata": {},
   "source": [
    "In the following cells, we will provide some examples to see the semantic representation ability of the models."
   ]
  },
  {
   "cell_type": "code",
   "execution_count": 9,
   "metadata": {},
   "outputs": [
    {
     "name": "stdout",
     "output_type": "stream",
     "text": [
      "Premise They look like the most efficient employee we have. Hypothesis They clearly are worst at their job\n",
      "AWE: The prediction is neutral.\n",
      "LSTM: The prediction is neutral.\n",
      "BiLSTM: The prediction is contradiction.\n",
      "BiLSTMpooling: The prediction is contradiction.\n"
     ]
    }
   ],
   "source": [
    "premise = \"They look like the most efficient employee we have.\"\n",
    "hypothesis = \"They clearly are worst at their job\"\n",
    "\n",
    "print(\"Premise: {} Hypothesis: {}\".format(premise, hypothesis))\n",
    "\n",
    "encoder = \"AWE\"\n",
    "predictor = Predictor.Initialize(encoder)\n",
    "pred_label = predictor.predict(premise, hypothesis)\n",
    "\n",
    "print(\"{}: The prediction is {}.\".format(encoder, pred_label))\n",
    "\n",
    "encoder = \"LSTM\"\n",
    "predictor = Predictor.Initialize(encoder)\n",
    "pred_label = predictor.predict(premise, hypothesis)\n",
    "\n",
    "print(\"{}: The prediction is {}.\".format(encoder, pred_label))\n",
    "\n",
    "encoder = \"BiLSTM\"\n",
    "predictor = Predictor.Initialize(encoder)\n",
    "pred_label = predictor.predict(premise, hypothesis)\n",
    "\n",
    "print(\"{}: The prediction is {}.\".format(encoder, pred_label))\n",
    "\n",
    "encoder = \"BiLSTMpooling\"\n",
    "predictor = Predictor.Initialize(encoder)\n",
    "pred_label = predictor.predict(premise, hypothesis)\n",
    "\n",
    "print(\"{}: The prediction is {}.\".format(encoder, pred_label))"
   ]
  },
  {
   "cell_type": "code",
   "execution_count": 11,
   "metadata": {},
   "outputs": [
    {
     "name": "stdout",
     "output_type": "stream",
     "text": [
      "Premise: The manager of this company has gone bankrupt. Hypothesis: This company has gone bankrupt.\n",
      "AWE: The prediction is neutral.\n",
      "LSTM: The prediction is entailment.\n",
      "BiLSTM: The prediction is entailment.\n",
      "BiLSTMpooling: The prediction is entailment.\n"
     ]
    }
   ],
   "source": [
    "premise = \"The manager of this company has gone bankrupt.\"\n",
    "hypothesis = \"This company has gone bankrupt.\"\n",
    "\n",
    "print(\"Premise: {} Hypothesis: {}\".format(premise, hypothesis))\n",
    "encoder = \"AWE\"\n",
    "predictor = Predictor.Initialize(encoder)\n",
    "pred_label = predictor.predict(premise, hypothesis)\n",
    "\n",
    "print(\"{}: The prediction is {}.\".format(encoder, pred_label))\n",
    "\n",
    "encoder = \"LSTM\"\n",
    "predictor = Predictor.Initialize(encoder)\n",
    "pred_label = predictor.predict(premise, hypothesis)\n",
    "\n",
    "print(\"{}: The prediction is {}.\".format(encoder, pred_label))\n",
    "\n",
    "encoder = \"BiLSTM\"\n",
    "predictor = Predictor.Initialize(encoder)\n",
    "pred_label = predictor.predict(premise, hypothesis)\n",
    "\n",
    "print(\"{}: The prediction is {}.\".format(encoder, pred_label))\n",
    "\n",
    "encoder = \"BiLSTMpooling\"\n",
    "predictor = Predictor.Initialize(encoder)\n",
    "pred_label = predictor.predict(premise, hypothesis)\n",
    "\n",
    "print(\"{}: The prediction is {}.\".format(encoder, pred_label))"
   ]
  },
  {
   "cell_type": "code",
   "execution_count": 12,
   "metadata": {},
   "outputs": [
    {
     "name": "stdout",
     "output_type": "stream",
     "text": [
      "Premise: It's a good day. Hypothesis: It's not a good day.\n",
      "AWE: The prediction is neutral.\n",
      "LSTM: The prediction is contradiction.\n",
      "BiLSTM: The prediction is contradiction.\n",
      "BiLSTMpooling: The prediction is contradiction.\n"
     ]
    }
   ],
   "source": [
    "premise = \"It's a good day.\"\n",
    "hypothesis = \"It's not a good day.\"\n",
    "\n",
    "print(\"Premise: {} Hypothesis: {}\".format(premise, hypothesis))\n",
    "encoder = \"AWE\"\n",
    "predictor = Predictor.Initialize(encoder)\n",
    "pred_label = predictor.predict(premise, hypothesis)\n",
    "\n",
    "print(\"{}: The prediction is {}.\".format(encoder, pred_label))\n",
    "\n",
    "encoder = \"LSTM\"\n",
    "predictor = Predictor.Initialize(encoder)\n",
    "pred_label = predictor.predict(premise, hypothesis)\n",
    "\n",
    "print(\"{}: The prediction is {}.\".format(encoder, pred_label))\n",
    "\n",
    "encoder = \"BiLSTM\"\n",
    "predictor = Predictor.Initialize(encoder)\n",
    "pred_label = predictor.predict(premise, hypothesis)\n",
    "\n",
    "print(\"{}: The prediction is {}.\".format(encoder, pred_label))\n",
    "\n",
    "encoder = \"BiLSTMpooling\"\n",
    "predictor = Predictor.Initialize(encoder)\n",
    "pred_label = predictor.predict(premise, hypothesis)\n",
    "\n",
    "print(\"{}: The prediction is {}.\".format(encoder, pred_label))"
   ]
  },
  {
   "cell_type": "code",
   "execution_count": 13,
   "metadata": {},
   "outputs": [
    {
     "name": "stdout",
     "output_type": "stream",
     "text": [
      "Premise: It's a good day. Hypothesis: It's not a good night.\n",
      "AWE: The prediction is neutral.\n",
      "LSTM: The prediction is contradiction.\n",
      "BiLSTM: The prediction is contradiction.\n",
      "BiLSTMpooling: The prediction is contradiction.\n"
     ]
    }
   ],
   "source": [
    "premise = \"It's a good day.\"\n",
    "hypothesis = \"It's not a good night.\"\n",
    "\n",
    "print(\"Premise: {} Hypothesis: {}\".format(premise, hypothesis))\n",
    "encoder = \"AWE\"\n",
    "predictor = Predictor.Initialize(encoder)\n",
    "pred_label = predictor.predict(premise, hypothesis)\n",
    "\n",
    "print(\"{}: The prediction is {}.\".format(encoder, pred_label))\n",
    "\n",
    "encoder = \"LSTM\"\n",
    "predictor = Predictor.Initialize(encoder)\n",
    "pred_label = predictor.predict(premise, hypothesis)\n",
    "\n",
    "print(\"{}: The prediction is {}.\".format(encoder, pred_label))\n",
    "\n",
    "encoder = \"BiLSTM\"\n",
    "predictor = Predictor.Initialize(encoder)\n",
    "pred_label = predictor.predict(premise, hypothesis)\n",
    "\n",
    "print(\"{}: The prediction is {}.\".format(encoder, pred_label))\n",
    "\n",
    "encoder = \"BiLSTMpooling\"\n",
    "predictor = Predictor.Initialize(encoder)\n",
    "pred_label = predictor.predict(premise, hypothesis)\n",
    "\n",
    "print(\"{}: The prediction is {}.\".format(encoder, pred_label))"
   ]
  },
  {
   "cell_type": "code",
   "execution_count": 14,
   "metadata": {},
   "outputs": [
    {
     "name": "stdout",
     "output_type": "stream",
     "text": [
      "Premise: He is a barber. Hypothesis: He cuts hair.\n",
      "AWE: The prediction is contradiction.\n",
      "LSTM: The prediction is neutral.\n",
      "BiLSTM: The prediction is neutral.\n",
      "BiLSTMpooling: The prediction is neutral.\n"
     ]
    }
   ],
   "source": [
    "premise = \"He is a barber.\"\n",
    "hypothesis = \"He cuts hair.\"\n",
    "\n",
    "print(\"Premise: {} Hypothesis: {}\".format(premise, hypothesis))\n",
    "encoder = \"AWE\"\n",
    "predictor = Predictor.Initialize(encoder)\n",
    "pred_label = predictor.predict(premise, hypothesis)\n",
    "\n",
    "print(\"{}: The prediction is {}.\".format(encoder, pred_label))\n",
    "\n",
    "encoder = \"LSTM\"\n",
    "predictor = Predictor.Initialize(encoder)\n",
    "pred_label = predictor.predict(premise, hypothesis)\n",
    "\n",
    "print(\"{}: The prediction is {}.\".format(encoder, pred_label))\n",
    "\n",
    "encoder = \"BiLSTM\"\n",
    "predictor = Predictor.Initialize(encoder)\n",
    "pred_label = predictor.predict(premise, hypothesis)\n",
    "\n",
    "print(\"{}: The prediction is {}.\".format(encoder, pred_label))\n",
    "\n",
    "encoder = \"BiLSTMpooling\"\n",
    "predictor = Predictor.Initialize(encoder)\n",
    "pred_label = predictor.predict(premise, hypothesis)\n",
    "\n",
    "print(\"{}: The prediction is {}.\".format(encoder, pred_label))"
   ]
  },
  {
   "cell_type": "code",
   "execution_count": 16,
   "metadata": {},
   "outputs": [
    {
     "name": "stdout",
     "output_type": "stream",
     "text": [
      "Premise: The doctor treats the patient. Hypothesis: She is a doctor, so she can treat you.\n",
      "AWE: The prediction is neutral.\n",
      "LSTM: The prediction is entailment.\n",
      "BiLSTM: The prediction is entailment.\n",
      "BiLSTMpooling: The prediction is entailment.\n"
     ]
    }
   ],
   "source": [
    "premise = \"The doctor treats the patient.\"\n",
    "hypothesis = \"She is a doctor, so she can treat you.\"\n",
    "\n",
    "print(\"Premise: {} Hypothesis: {}\".format(premise, hypothesis))\n",
    "encoder = \"AWE\"\n",
    "predictor = Predictor.Initialize(encoder)\n",
    "pred_label = predictor.predict(premise, hypothesis)\n",
    "\n",
    "print(\"{}: The prediction is {}.\".format(encoder, pred_label))\n",
    "\n",
    "encoder = \"LSTM\"\n",
    "predictor = Predictor.Initialize(encoder)\n",
    "pred_label = predictor.predict(premise, hypothesis)\n",
    "\n",
    "print(\"{}: The prediction is {}.\".format(encoder, pred_label))\n",
    "\n",
    "encoder = \"BiLSTM\"\n",
    "predictor = Predictor.Initialize(encoder)\n",
    "pred_label = predictor.predict(premise, hypothesis)\n",
    "\n",
    "print(\"{}: The prediction is {}.\".format(encoder, pred_label))\n",
    "\n",
    "encoder = \"BiLSTMpooling\"\n",
    "predictor = Predictor.Initialize(encoder)\n",
    "pred_label = predictor.predict(premise, hypothesis)\n",
    "\n",
    "print(\"{}: The prediction is {}.\".format(encoder, pred_label))"
   ]
  },
  {
   "cell_type": "markdown",
   "metadata": {},
   "source": [
    "Interestingly, AWE for all the above examples is predicting \"Neutral\". This shows that AWE is the weaker model in semantic reasoning. While LSTM, BiLSTM, and BiLSTMpooling are able to give reasonable predictions. However, LSTM, BiLSTM, and BiLSTMpooling models are also doing shallow semantic reasoning. For example, in the last example, the predicted label should be \"Neutral\", however, the models predict \"Contradiction\" preseumably due to the mention of the antonym of the word \"day\". This kind of behavior can be seen for the pair: \"Premise: I am a boy, Hypothesis: I am not a girl.\" This shows that these models are suffering with negation. The last two examplez shows that these models hints that these models are not doing semantic reasoning at all but relying on shallow signals (word match, word overlap, etc.). "
   ]
  },
  {
   "cell_type": "markdown",
   "metadata": {},
   "source": [
    "#### Results"
   ]
  },
  {
   "cell_type": "markdown",
   "metadata": {},
   "source": [
    "|Method|dev|test| micro(SE)|macro(SE)|\n",
    "|-----| -----|-----|-----|-----|\n",
    "|AWE| 0.649|0.654|76.23|74.24|\n",
    "|LSTM|0.808|0.802|77.45|73.77|\n",
    "|BiLSTM|0.797|0.799|78.36 |75.24|\n",
    "|BiLSTM with pooling|0.846|0.848|81.1|77.62|\n",
    "\n",
    "Results on SNLI Task and SentEval Transfer Tasks for different models"
   ]
  },
  {
   "cell_type": "markdown",
   "metadata": {},
   "source": [
    "|Method|STS14| MR|CR|MPQA|SUBJ|SST2|SST5|TREC|MRPC|SICKE|SICKR|\n",
    "|-----| -----|-----|-----|-----|-----|-----|-----|-----|-----|-----|-----|\n",
    "|AWE|0.45|75.38|78.01|84.47|90.15|78.2|39.64|72.0|71.71|75.6|0.782|\n",
    "|LSTM|0.56|71.58|77.43|84.96|86.57|76.83|38.46|72.2|72.64|83.28|0.85|\n",
    "|BiLSTM with pooling|0.638|75.77|81.54|85.57|91.94|80.01|42.49|78.2|74.32|83.6|0.88|\n",
    "|BiLSTM|0.546|71.77|77.8|85.07|88.23|76.88|41.31|74.0|73.51|83.78|0.862|\n",
    "\n",
    "Results on Transfer Tasks for SentEval"
   ]
  },
  {
   "cell_type": "markdown",
   "metadata": {},
   "source": [
    "The results above demonstrate that BiLSTM with pooling is performaing well compared to others in sentence representation learning."
   ]
  }
 ],
 "metadata": {
  "kernelspec": {
   "display_name": "rajeev3",
   "language": "python",
   "name": "rajeev3"
  },
  "language_info": {
   "codemirror_mode": {
    "name": "ipython",
    "version": 3
   },
   "file_extension": ".py",
   "mimetype": "text/x-python",
   "name": "python",
   "nbconvert_exporter": "python",
   "pygments_lexer": "ipython3",
   "version": "3.7.9"
  }
 },
 "nbformat": 4,
 "nbformat_minor": 4
}
